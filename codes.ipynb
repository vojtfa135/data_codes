{
 "metadata": {
  "language_info": {
   "codemirror_mode": {
    "name": "ipython",
    "version": 3
   },
   "file_extension": ".py",
   "mimetype": "text/x-python",
   "name": "python",
   "nbconvert_exporter": "python",
   "pygments_lexer": "ipython3",
   "version": "3.8.0-final"
  },
  "orig_nbformat": 2,
  "kernelspec": {
   "name": "python3",
   "display_name": "Python 3",
   "language": "python"
  }
 },
 "nbformat": 4,
 "nbformat_minor": 2,
 "cells": [
  {
   "cell_type": "code",
   "execution_count": 4,
   "metadata": {},
   "outputs": [
    {
     "output_type": "stream",
     "name": "stdout",
     "text": [
      "[0, 1, 1, 1, 0, 0, 1, 1, 1, 0, 1, 1, 1, 0, 0, 1, 1, 1, 0, 1, 1, 1, 0, 0, 1, 1, 1]\n[[0, 1, 1, 1, 0, 0, 1, 1, 0], [0, 1, 1, 1, 0, 0, 1, 1, 0], [0, 1, 1, 1, 0, 0, 1, 1, 0]]\n"
     ]
    }
   ],
   "source": [
    "from itertools import chain\n",
    "\n",
    "def even_parity_check_code(code):\n",
    "    chunked_list = [code[i:i + 8] for i in range(0, len(code), 8)]\n",
    "    for chunk in chunked_list:\n",
    "        one_bits_sum = sum([bit for bit in chunk if bit == 1])\n",
    "        if one_bits_sum % 2 == 0:\n",
    "            chunk.append(0)\n",
    "        else:\n",
    "            chunk.append(1)\n",
    "    return list(chain(*chunked_list))\n",
    "\n",
    "def odd_parity_check_code(code):\n",
    "    chunked_list = [code[i:i + 8] for i in range(0, len(code), 8)]\n",
    "    for chunk in chunked_list:\n",
    "        one_bits_sum = sum([bit for bit in chunk if bit == 1])\n",
    "        if (one_bits_sum + 1) % 2 == 0:\n",
    "            chunk.append(0)\n",
    "        else:\n",
    "            chunk.append(1)\n",
    "    return list(chain(*chunked_list))\n",
    "\n",
    "lst = [0, 1, 1, 1, 0, 0, 1, 1, 0, 1, 1, 1, 0, 0, 1, 1, 0, 1, 1, 1, 0, 0, 1, 1]\n",
    "print(even_parity_check_code(lst))\n",
    "print(odd_parity_check_code(lst))"
   ]
  },
  {
   "cell_type": "code",
   "execution_count": null,
   "metadata": {},
   "outputs": [],
   "source": []
  }
 ]
}